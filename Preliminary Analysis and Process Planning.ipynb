{
 "cells": [
  {
   "cell_type": "code",
   "execution_count": null,
   "id": "560dc452",
   "metadata": {},
   "outputs": [],
   "source": [
    "#This dataset to be analyzed includes data on the events captured from 911 calls to the Seattle Police Department. \n",
    "#The dynamics of various criminal events could be examined using this set of procedures.\n",
    "\n",
    "#Importing the necessary Packages in the Jupyter Notebook\n",
    "import pandas as pd\n",
    "import numpy as np\n",
    "import matplotlib \n",
    "import matplotlib.pyplot as plt\n",
    "from scipy import stats\n",
    "import seaborn as sns\n",
    "sns.set(style=\"whitegrid\", color_codes=True)"
   ]
  },
  {
   "cell_type": "code",
   "execution_count": null,
   "id": "08507430",
   "metadata": {},
   "outputs": [],
   "source": [
    "#Reading and Visualizing the Seattle Police Department 911 Incident Response dataset\n",
    "import pandas as pd\n",
    "#df = pd.read_csv('C://Users//n//Documents//Seattle_Police_Department_911_Incident_Response.csv')\n",
    "df = pd.read_csv('C:/Users/n/AppData/Local/Temp/Rar$DIa0.764/Seattle_Police_Department_911_Incident_Response.csv')\n",
    "df.head()\n"
   ]
  },
  {
   "cell_type": "code",
   "execution_count": null,
   "id": "1c0fe241",
   "metadata": {},
   "outputs": [],
   "source": [
    "#Displays the first 10 values of the dataset\n",
    "df.head()"
   ]
  },
  {
   "cell_type": "code",
   "execution_count": null,
   "id": "a64d0da7",
   "metadata": {},
   "outputs": [],
   "source": [
    "#Displays the last 10 values of the dataset\n",
    "df.tail()"
   ]
  },
  {
   "cell_type": "code",
   "execution_count": null,
   "id": "5af2de4e",
   "metadata": {},
   "outputs": [],
   "source": [
    "\n",
    "# select the columns that contain the values of the variables\n",
    "subset_data = df[['Initial Type Description', 'Initial Type Group', 'District/Sector', 'Hundred Block Location', 'At Scene Time', 'Event Clearance Date']]\n",
    "\n",
    "# transform the categorical values into numerical values\n",
    "subset_data['Initial Type Group'] = subset_data['Initial Type Group'].replace(['DISTURBANCES', 'THEFT', 'NUISANCE, MISCHIEF', 'TRAFFIC RELATED CALLS'], [0, 1, 2, 3])\n",
    "#Python or R script to generate a subset of the givendata.\n",
    "# print the subset of the data\n",
    "print(subset_data)"
   ]
  },
  {
   "cell_type": "code",
   "execution_count": null,
   "id": "e587356a",
   "metadata": {},
   "outputs": [],
   "source": [
    "#Drop the Insufficient Columns\n",
    "df.columns\n",
    "df.drop(['Initial Type Description', 'Initial Type Subgroup',\n",
    "       'Initial Type Group', 'At Scene Time'], axis = 1, inplace = True)"
   ]
  },
  {
   "cell_type": "code",
   "execution_count": null,
   "id": "79a875df",
   "metadata": {},
   "outputs": [],
   "source": [
    "#script to count the different values of each relevant variable (column).script to count\n",
    "#the different values of each relevant  variable (column).script to count the different values of each relevant variable \n",
    "#(column).count the different values of each relevant variable\n",
    "\n",
    "count_initial_type_group = subset_data['Initial Type Group'].value_counts()\n",
    "count_district_sector = subset_data['District/Sector'].value_counts()\n",
    "count_at_scene_time = subset_data['At Scene Time'].value_counts()\n",
    "\n",
    "# generate a histogram for each variable\n",
    "count_initial_type_group.plot(kind='bar')\n",
    "plt.title(\"Initial Type Group\")\n",
    "plt.xlabel(\"Value\")\n",
    "plt.ylabel(\"Count\")\n",
    "plt.show()\n",
    "\n",
    "count_district_sector.plot(kind='bar')\n",
    "plt.title(\"District/Sector\")\n",
    "plt.xlabel(\"Value\")\n",
    "plt.ylabel(\"Count\")\n",
    "plt.show()\n",
    "\n",
    "count_at_scene_time.plot(kind='bar')\n",
    "plt.title(\"At Scene Time\")\n",
    "plt.xlabel(\"Value\")\n",
    "plt.ylabel(\"Count\")\n",
    "plt.show()"
   ]
  },
  {
   "cell_type": "code",
   "execution_count": null,
   "id": "aec6f029",
   "metadata": {},
   "outputs": [],
   "source": [
    "# transform the categorical values into numerical values\n",
    "df = pd.read_csv('C:/Users/n/AppData/Local/Temp/Rar$DIa0.764/Seattle_Police_Department_911_Incident_Response.csv')\n",
    "subset_data = df[['Initial Type Description', 'Initial Type Group', 'District/Sector', 'Hundred Block Location', 'At Scene Time', 'Event Clearance Date']]\n",
    "subset_data['Initial Type Group'] = subset_data['Initial Type Group'].replace(['DISTURBANCES', 'THEFT', 'NUISANCE, MISCHIEF', 'TRAFFIC RELATED CALLS'], [0, 1, 2, 3])\n",
    "\n",
    "# Then generate the statistical descriptions of the variables\n",
    "desc = subset_data.describe()"
   ]
  },
  {
   "cell_type": "code",
   "execution_count": null,
   "id": "dfefc7d3",
   "metadata": {},
   "outputs": [],
   "source": [
    "df = pd.read_csv('C:/Users/n/AppData/Local/Temp/Rar$DIa0.764/Seattle_Police_Department_911_Incident_Response.csv')\n",
    "sns.lmplot(x='Longitude', y='Latitude', hue='District/Sector', \n",
    "           data=df, \n",
    "           fit_reg=False, scatter_kws={'alpha':0.1})"
   ]
  },
  {
   "cell_type": "code",
   "execution_count": null,
   "id": "a9e34e68",
   "metadata": {},
   "outputs": [],
   "source": [
    "sns.lmplot(x='Longitude', y='Latitude', hue='Zone/Beat', \n",
    "           data=df, \n",
    "           fit_reg=False, scatter_kws={'alpha':0.1})"
   ]
  },
  {
   "cell_type": "code",
   "execution_count": null,
   "id": "fd78feef",
   "metadata": {},
   "outputs": [],
   "source": [
    "#Seattle Police Department 911 Incident Response Cleaning\n",
    "print(df.shape)\n",
    "df.isna().sum().sort_values()"
   ]
  },
  {
   "cell_type": "code",
   "execution_count": null,
   "id": "4d6a27c7",
   "metadata": {},
   "outputs": [],
   "source": [
    "df = pd.read_csv('C:/Users/n/AppData/Local/Temp/Rar$DIa0.764/Seattle_Police_Department_911_Incident_Response.csv')\n",
    "def rand_id(x):\n",
    "    return np.random.randint(100000000, 1000000000, 1)[0]\n",
    "    \n",
    "df.loc[df['CAD CDW ID'].isna(),'CAD CDW ID'] = df.loc[df['CAD CDW ID'].isna(),'CAD CDW ID'].apply(rand_id)"
   ]
  },
  {
   "cell_type": "code",
   "execution_count": null,
   "id": "5529535c",
   "metadata": {},
   "outputs": [],
   "source": [
    "#Data Preparation and Distribution Analysis\n",
    "df.columns\n",
    "df.drop(['Initial Type Description', 'Initial Type Subgroup',\n",
    "       'Initial Type Group', 'At Scene Time'], axis = 1, inplace = True)"
   ]
  },
  {
   "cell_type": "code",
   "execution_count": null,
   "id": "cc3553af",
   "metadata": {},
   "outputs": [],
   "source": [
    "#Stating location address during classification\n",
    "df.drop('Incident Location', axis = 1, inplace = True)\n",
    "df_copy.drop('address', axis = 1, inplace = True)"
   ]
  },
  {
   "cell_type": "code",
   "execution_count": null,
   "id": "589b2cf4",
   "metadata": {},
   "outputs": [],
   "source": [
    "df_copy.to_csv('C:\\\\Users\\\\n\\\\Documents\\\\Seattle_Police_Department_911_Incident_Response.csv', index=False)"
   ]
  },
  {
   "cell_type": "code",
   "execution_count": null,
   "id": "86014830",
   "metadata": {},
   "outputs": [],
   "source": [
    "#The End of Preliminary Analysis and Process Planning"
   ]
  },
  {
   "cell_type": "code",
   "execution_count": null,
   "id": "7fb96b9a",
   "metadata": {},
   "outputs": [],
   "source": []
  },
  {
   "cell_type": "code",
   "execution_count": null,
   "id": "8ca20664",
   "metadata": {},
   "outputs": [],
   "source": []
  }
 ],
 "metadata": {
  "kernelspec": {
   "display_name": "Python 3 (ipykernel)",
   "language": "python",
   "name": "python3"
  },
  "language_info": {
   "codemirror_mode": {
    "name": "ipython",
    "version": 3
   },
   "file_extension": ".py",
   "mimetype": "text/x-python",
   "name": "python",
   "nbconvert_exporter": "python",
   "pygments_lexer": "ipython3",
   "version": "3.9.12"
  }
 },
 "nbformat": 4,
 "nbformat_minor": 5
}
