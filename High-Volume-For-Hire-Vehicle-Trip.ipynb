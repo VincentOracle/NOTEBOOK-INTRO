{
 "cells": [
  {
   "cell_type": "code",
   "execution_count": null,
   "id": "a3ef76e9",
   "metadata": {},
   "outputs": [],
   "source": [
    "#Importing the PYTHON LIBRARIES\n",
    "import pandas as pd\n",
    "import pyarrow.parquet as pq\n",
    "import org.apache.spark.sql.Sparksession\n",
    "from pyspark.sql.functions import *\n",
    "from pyspark.sql.types import *\n"
   ]
  },
  {
   "cell_type": "code",
   "execution_count": null,
   "id": "082c924b",
   "metadata": {},
   "outputs": [],
   "source": [
    "#Defining the Parquet_file\n",
    "parquet_file=\"C:\\\\Users\\\\n\\\\Downloads\\\\fhvhv_tripdata_2022-01 (2).parquet\""
   ]
  },
  {
   "cell_type": "code",
   "execution_count": null,
   "id": "55cb41f2",
   "metadata": {},
   "outputs": [],
   "source": [
    "#Read the parquet file\n",
    "parquet_file=\"C:\\\\Users\\\\n\\\\Downloads\\\\fhvhv_tripdata_2022-01 (2).parquet\"\n",
    "df=pd.read_parquet(parquet_file,engine='auto')\n",
    "print(df)"
   ]
  },
  {
   "cell_type": "code",
   "execution_count": null,
   "id": "a3a0affc",
   "metadata": {},
   "outputs": [],
   "source": [
    "#Reading the dataset using the paths object\n",
    "df=pd.read_parquet(parquet_file,engine='auto')\n",
    "paths=df.select(\"C:\\\\Users\\\\n\\\\Downloads\\\\fhvhv_tripdata_2022-01 (2).parquet\").rdd.map(lambda x:x[0]).collect()"
   ]
  },
  {
   "cell_type": "code",
   "execution_count": null,
   "id": "a0a4ce42",
   "metadata": {},
   "outputs": [],
   "source": [
    "#Displays all the fields in the schema\n",
    "sch=StructType([StructField(\"C:\\\\Users\\\\n\\\\Downloads\\\\fhvhv_tripdata_2022-01 (2).parquet\",StringType()),StructField(\"base_passenger_pay\",Char())])\n",
    "final_df=spark.createDataFrame([],schema)\n",
    "\n",
    "for path in paths:\n",
    "    final_df=spark.read.parquet(path).withColumn(\"C:\\\\Users\\\\n\\\\Downloads\\\\fhvhv_tripdata_2022-01 (2).parquet\",fhvhv_tripdata_2022-01()())\n",
    "\n",
    "#Shows the high volume for Hire Vehicle trip Dataset\n",
    "final_df.show()"
   ]
  },
  {
   "cell_type": "code",
   "execution_count": null,
   "id": "feb94d45",
   "metadata": {},
   "outputs": [],
   "source": [
    "spark.read.parquet(\"C:\\\\Users\\\\n\\\\Downloads\\\\fhvhv_tripdata_2022-01 (2).parquet\")"
   ]
  },
  {
   "cell_type": "code",
   "execution_count": null,
   "id": "ce82f715",
   "metadata": {},
   "outputs": [],
   "source": [
    "#Displays all the columns\n",
    "df = spark.read.parquet(parquet_file)\n",
    "df.select(columns)\n",
    "df.show()"
   ]
  },
  {
   "cell_type": "code",
   "execution_count": null,
   "id": "fa6cbe84",
   "metadata": {},
   "outputs": [],
   "source": [
    "#Select the specific colums in the Dataset\n",
    "df.select(df(\"base_passenger_fare\"),df(\"trip_time\"),df(\"airport_fee\"),df(\"driver_pay\")).show()\n"
   ]
  },
  {
   "cell_type": "code",
   "execution_count": null,
   "id": "36abce3a",
   "metadata": {},
   "outputs": [],
   "source": [
    "#A Dataframe with columns base_passenger_fare, trip_time,airport_fee,driver_pay\n",
    "cols = [\"base_passenger_fare\",\"trip_time\",\"airport_fee\",\"driver_pay\"]\n",
    "df1 = pd.read_parquet('C:\\\\Users\\\\n\\\\Downloads\\\\fhvhv_tripdata_2022-01 (2).parquet', columns=cols)\n",
    "print(df1)"
   ]
  },
  {
   "cell_type": "code",
   "execution_count": null,
   "id": "d14d4758",
   "metadata": {},
   "outputs": [],
   "source": [
    "#Adding a new Column overtime_pay to the Dataset\n",
    "df.insert(len(df.columns), 'overtime_pay', pd.Series(np.random.randn(sLength),  index=df.index))\n",
    "#Adding a new Column bonus_pay to the Dataset\n",
    "df.insert(len(df.columns), 'bonus_pay', pd.Series(np.random.randn(sLength),  index=df.index))\n"
   ]
  },
  {
   "cell_type": "code",
   "execution_count": null,
   "id": "e79005f0",
   "metadata": {},
   "outputs": [],
   "source": [
    "#Displays the dataframe after the addition of  new columns\n",
    "df.show()"
   ]
  },
  {
   "cell_type": "code",
   "execution_count": null,
   "id": "bf967caf",
   "metadata": {},
   "outputs": [],
   "source": [
    "#Filtering the  trip time greater than 9pm\n",
    "Overtime_trip = [\n",
    "    ('trip_time', '>',9), \n",
    "]\n",
    "\n",
    "# Provides the average execution start time\n",
    "execution_start_time = pd.Timestamp.now()\n",
    "\n",
    "# Performs Loading of the data after the column selection and filter predicates have been applied it\n",
    "df = pd.read_parquet(parquet_file, columns=trip_time, Overtme_trip)\n",
    "# Returns the execution duration of the query\n",
    "pd.Timestamp.now() - execution_start_time"
   ]
  },
  {
   "cell_type": "code",
   "execution_count": null,
   "id": "324b45c5",
   "metadata": {},
   "outputs": [],
   "source": [
    "#Calculating the driver fee pay\n",
    "def driver_overtime_pay():\n",
    "cols = [\"base_passenger_fare\",\"trip_time\",\"airport_fee\",\"driver_pay\"]\n",
    "df1 = pd.read_parquet('C:\\\\Users\\\\n\\\\Downloads\\\\fhvhv_tripdata_2022-01 (2).parquet', columns=cols)   \n",
    "if trip_time>9:\n",
    "    driver_overtime_pay=driver_pay+(overtime_trip*0.3)\n",
    "    return driver_overtime_pay\n",
    "else:\n",
    "    return driver_pay"
   ]
  },
  {
   "cell_type": "code",
   "execution_count": null,
   "id": "4e400f70",
   "metadata": {},
   "outputs": [],
   "source": [
    "#Computing for 8 hours work\n",
    "def driver_pay():\n",
    "cols = [\"base_passenger_fare\",\"trip_time\",\"airport_fee\",\"driver_pay\"]\n",
    "df1 = pd.read_parquet('C:\\\\Users\\\\n\\\\Downloads\\\\fhvhv_tripdata_2022-01 (2).parquet', columns=cols)\n",
    "if trip_time==8:\n",
    "    bonus_pay=overtime_pay*0.2\n",
    "    driver_pay=driver_overtime_pay+bonus_pay\n",
    "    return  driver_pay"
   ]
  }
 ],
 "metadata": {
  "kernelspec": {
   "display_name": "Python 3 (ipykernel)",
   "language": "python",
   "name": "python3"
  },
  "language_info": {
   "codemirror_mode": {
    "name": "ipython",
    "version": 3
   },
   "file_extension": ".py",
   "mimetype": "text/x-python",
   "name": "python",
   "nbconvert_exporter": "python",
   "pygments_lexer": "ipython3",
   "version": "3.9.12"
  }
 },
 "nbformat": 4,
 "nbformat_minor": 5
}
