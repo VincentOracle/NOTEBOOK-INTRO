{
 "cells": [
  {
   "cell_type": "code",
   "execution_count": 1,
   "id": "b047c50c",
   "metadata": {},
   "outputs": [],
   "source": [
    "#This program first imports the necessary libraries, then reads in the dataset and creates a dataframe.\n",
    "#Next, it defines the dependent variable (y) as the log of steel quantity demanded and the independent variable (X) \n",
    "#as the log of steel price. Then, a linear regression object is created and fit to the data using the .fit() method. \n",
    "#Finally, the estimated coefficients (the intercept and coefficient of the\n",
    "#log-linear demand function) are printed using the .intercept_ and .coef_ attributes of the trained model.\n"
   ]
  },
  {
   "cell_type": "code",
   "execution_count": 40,
   "id": "a79db07b",
   "metadata": {},
   "outputs": [],
   "source": [
    "import pandas as pd\n",
    "import numpy as np\n",
    "import seaborn as sns\n",
    "import matplotlib.pyplot as plt\n",
    "from sklearn.metrics import mean_squared_error\n",
    "from sklearn.linear_model import LinearRegression"
   ]
  },
  {
   "cell_type": "code",
   "execution_count": 23,
   "id": "b2ddc7ec",
   "metadata": {},
   "outputs": [
    {
     "data": {
      "text/html": [
       "<div>\n",
       "<style scoped>\n",
       "    .dataframe tbody tr th:only-of-type {\n",
       "        vertical-align: middle;\n",
       "    }\n",
       "\n",
       "    .dataframe tbody tr th {\n",
       "        vertical-align: top;\n",
       "    }\n",
       "\n",
       "    .dataframe thead th {\n",
       "        text-align: right;\n",
       "    }\n",
       "</style>\n",
       "<table border=\"1\" class=\"dataframe\">\n",
       "  <thead>\n",
       "    <tr style=\"text-align: right;\">\n",
       "      <th></th>\n",
       "      <th>Demand Function Estimation: Steel</th>\n",
       "      <th>Unnamed: 1</th>\n",
       "      <th>Unnamed: 2</th>\n",
       "      <th>Unnamed: 3</th>\n",
       "      <th>Unnamed: 4</th>\n",
       "      <th>Unnamed: 5</th>\n",
       "    </tr>\n",
       "  </thead>\n",
       "  <tbody>\n",
       "    <tr>\n",
       "      <th>0</th>\n",
       "      <td>NaN</td>\n",
       "      <td>NaN</td>\n",
       "      <td>NaN</td>\n",
       "      <td>NaN</td>\n",
       "      <td>NaN</td>\n",
       "      <td>NaN</td>\n",
       "    </tr>\n",
       "    <tr>\n",
       "      <th>1</th>\n",
       "      <td>NaN</td>\n",
       "      <td>ASU</td>\n",
       "      <td>Steel price index</td>\n",
       "      <td>Alumin-ium price</td>\n",
       "      <td>Real GDP</td>\n",
       "      <td>RPI</td>\n",
       "    </tr>\n",
       "    <tr>\n",
       "      <th>2</th>\n",
       "      <td>NaN</td>\n",
       "      <td>000MT</td>\n",
       "      <td>1987=100</td>\n",
       "      <td>US$MT</td>\n",
       "      <td>£M. 2005 prices</td>\n",
       "      <td>1987=100</td>\n",
       "    </tr>\n",
       "    <tr>\n",
       "      <th>3</th>\n",
       "      <td>NaN</td>\n",
       "      <td>NaN</td>\n",
       "      <td>NaN</td>\n",
       "      <td>NaN</td>\n",
       "      <td>NaN</td>\n",
       "      <td>NaN</td>\n",
       "    </tr>\n",
       "    <tr>\n",
       "      <th>4</th>\n",
       "      <td>1990.0</td>\n",
       "      <td>16140</td>\n",
       "      <td>116.3</td>\n",
       "      <td>1409.8</td>\n",
       "      <td>912059</td>\n",
       "      <td>126.1</td>\n",
       "    </tr>\n",
       "  </tbody>\n",
       "</table>\n",
       "</div>"
      ],
      "text/plain": [
       "   Demand Function Estimation: Steel Unnamed: 1         Unnamed: 2  \\\n",
       "0                                NaN        NaN                NaN   \n",
       "1                                NaN        ASU  Steel price index   \n",
       "2                                NaN      000MT           1987=100   \n",
       "3                                NaN        NaN                NaN   \n",
       "4                             1990.0      16140              116.3   \n",
       "\n",
       "          Unnamed: 3       Unnamed: 4 Unnamed: 5  \n",
       "0                NaN              NaN        NaN  \n",
       "1  Alumin-ium price          Real GDP        RPI  \n",
       "2              US$MT  £M. 2005 prices   1987=100  \n",
       "3                NaN              NaN        NaN  \n",
       "4             1409.8           912059      126.1  "
      ]
     },
     "execution_count": 23,
     "metadata": {},
     "output_type": "execute_result"
    }
   ],
   "source": [
    "# Read in the whole dataset and create a dataframe\n",
    "#This script then reads in the Excel file using pd.read_excel() and creates a dataframe.\n",
    "import pandas as pd\n",
    "data = pd.read_excel(\"C://Users//n//Downloads//AFE 5 TAE The Analytical Economist Individual Coursework - Economics - dataset_1eabdccee17ae8cd81c922b2f8bffd59.xlsx\")\n",
    "data.head()\n"
   ]
  },
  {
   "cell_type": "code",
   "execution_count": 24,
   "id": "2fe9560d",
   "metadata": {},
   "outputs": [
    {
     "data": {
      "text/html": [
       "<div>\n",
       "<style scoped>\n",
       "    .dataframe tbody tr th:only-of-type {\n",
       "        vertical-align: middle;\n",
       "    }\n",
       "\n",
       "    .dataframe tbody tr th {\n",
       "        vertical-align: top;\n",
       "    }\n",
       "\n",
       "    .dataframe thead th {\n",
       "        text-align: right;\n",
       "    }\n",
       "</style>\n",
       "<table border=\"1\" class=\"dataframe\">\n",
       "  <thead>\n",
       "    <tr style=\"text-align: right;\">\n",
       "      <th></th>\n",
       "      <th>Demand Function Estimation: Steel</th>\n",
       "      <th>Unnamed: 1</th>\n",
       "      <th>Unnamed: 2</th>\n",
       "      <th>Unnamed: 3</th>\n",
       "      <th>Unnamed: 4</th>\n",
       "      <th>Unnamed: 5</th>\n",
       "    </tr>\n",
       "  </thead>\n",
       "  <tbody>\n",
       "    <tr>\n",
       "      <th>29</th>\n",
       "      <td>NaN</td>\n",
       "      <td>ASU:</td>\n",
       "      <td>NaN</td>\n",
       "      <td>Apparent steel useage (steel shipments net of ...</td>\n",
       "      <td>NaN</td>\n",
       "      <td>NaN</td>\n",
       "    </tr>\n",
       "    <tr>\n",
       "      <th>30</th>\n",
       "      <td>NaN</td>\n",
       "      <td>Steel prices:</td>\n",
       "      <td>NaN</td>\n",
       "      <td>1987=100</td>\n",
       "      <td>http://www.eef.org.uk/uksteel/about-the-indust...</td>\n",
       "      <td>NaN</td>\n",
       "    </tr>\n",
       "    <tr>\n",
       "      <th>31</th>\n",
       "      <td>NaN</td>\n",
       "      <td>Aluminium prices:</td>\n",
       "      <td>NaN</td>\n",
       "      <td>1993-2011:  LME: Aluminium alloy Cash. US$MT. ...</td>\n",
       "      <td>NaN</td>\n",
       "      <td>NaN</td>\n",
       "    </tr>\n",
       "    <tr>\n",
       "      <th>32</th>\n",
       "      <td>NaN</td>\n",
       "      <td>Real GDP:</td>\n",
       "      <td>NaN</td>\n",
       "      <td>2005 prices.</td>\n",
       "      <td>http://www.ons.gov.uk/ons/rel/naa1-rd/united-k...</td>\n",
       "      <td>NaN</td>\n",
       "    </tr>\n",
       "    <tr>\n",
       "      <th>33</th>\n",
       "      <td>NaN</td>\n",
       "      <td>RPI:</td>\n",
       "      <td>NaN</td>\n",
       "      <td>January 1987 = 100.  www.ons.gov.uk</td>\n",
       "      <td>NaN</td>\n",
       "      <td>NaN</td>\n",
       "    </tr>\n",
       "  </tbody>\n",
       "</table>\n",
       "</div>"
      ],
      "text/plain": [
       "    Demand Function Estimation: Steel         Unnamed: 1 Unnamed: 2  \\\n",
       "29                                NaN             ASU:          NaN   \n",
       "30                                NaN      Steel prices:        NaN   \n",
       "31                                NaN  Aluminium prices:        NaN   \n",
       "32                                NaN          Real GDP:        NaN   \n",
       "33                                NaN               RPI:        NaN   \n",
       "\n",
       "                                           Unnamed: 3  \\\n",
       "29  Apparent steel useage (steel shipments net of ...   \n",
       "30                                           1987=100   \n",
       "31  1993-2011:  LME: Aluminium alloy Cash. US$MT. ...   \n",
       "32                                     2005 prices.     \n",
       "33                January 1987 = 100.  www.ons.gov.uk   \n",
       "\n",
       "                                           Unnamed: 4 Unnamed: 5  \n",
       "29                                                NaN        NaN  \n",
       "30  http://www.eef.org.uk/uksteel/about-the-indust...        NaN  \n",
       "31                                                NaN        NaN  \n",
       "32  http://www.ons.gov.uk/ons/rel/naa1-rd/united-k...        NaN  \n",
       "33                                                NaN        NaN  "
      ]
     },
     "execution_count": 24,
     "metadata": {},
     "output_type": "execute_result"
    }
   ],
   "source": [
    "data.tail()"
   ]
  },
  {
   "cell_type": "code",
   "execution_count": null,
   "id": "0c1772be",
   "metadata": {},
   "outputs": [],
   "source": [
    "# Define the dependent and independent variables\n",
    "X = np.log(data[['ASU']])\n",
    "y = np.log(data[['000MT']])"
   ]
  },
  {
   "cell_type": "code",
   "execution_count": 31,
   "id": "7eee32ab",
   "metadata": {},
   "outputs": [],
   "source": [
    "# Create a linear regression object\n",
    "reg = LinearRegression()\n"
   ]
  },
  {
   "cell_type": "code",
   "execution_count": null,
   "id": "5a720d9d",
   "metadata": {},
   "outputs": [],
   "source": [
    "# Fit the model using the training data\n",
    "#a linear regression object is created and fit to the data using the .fit() method.\n",
    "X = np.log(data[['ASU']])\n",
    "y = np.log(data[['000MT']])\n",
    "reg.fit(X, y)"
   ]
  },
  {
   "cell_type": "code",
   "execution_count": null,
   "id": "d53f38cd",
   "metadata": {},
   "outputs": [],
   "source": [
    "# Print the estimated coefficients\n",
    "#the estimated coefficients (the intercept and coefficient of the \n",
    "#log-linear demand function) are printed using the .intercept_ and .coef_ attributes of the trained model. \n",
    "print(\"Intercept: \", reg.intercept_)\n",
    "print(\"Coefficient: \", reg.coef_)"
   ]
  },
  {
   "cell_type": "code",
   "execution_count": 28,
   "id": "1e9d3ca1",
   "metadata": {},
   "outputs": [],
   "source": [
    "# Compute the correlation matrix\n",
    "corr_matrix = data.corr()"
   ]
  },
  {
   "cell_type": "code",
   "execution_count": 22,
   "id": "088570b7",
   "metadata": {},
   "outputs": [
    {
     "name": "stdout",
     "output_type": "stream",
     "text": [
      "                                   Demand Function Estimation: Steel\n",
      "Demand Function Estimation: Steel                                1.0\n"
     ]
    }
   ],
   "source": [
    "# Print the correlation matrix\n",
    "corr_matrix = data.corr()\n",
    "print(corr_matrix)\n"
   ]
  },
  {
   "cell_type": "code",
   "execution_count": 25,
   "id": "7aae623d",
   "metadata": {},
   "outputs": [
    {
     "data": {
      "image/png": "[encoded data removed]",
      "text/plain": [
       "<Figure size 432x288 with 2 Axes>"
      ]
     },
     "metadata": {
      "needs_background": "light"
     },
     "output_type": "display_data"
    }
   ],
   "source": [
    "\n",
    "# Use Seaborn to create a heatmap of the correlation matrix\n",
    "sns.heatmap(corr_matrix, annot=True)\n",
    "plt.show()\n"
   ]
  },
  {
   "cell_type": "code",
   "execution_count": null,
   "id": "77172b72",
   "metadata": {},
   "outputs": [],
   "source": [
    "#predict\n",
    "reg = LinearRegression()\n",
    "y_pred = reg.predict(X)"
   ]
  },
  {
   "cell_type": "code",
   "execution_count": null,
   "id": "6ef29dc1",
   "metadata": {},
   "outputs": [],
   "source": [
    "# mean squared error\n",
    "mse = mean_squared_error(y, y_pred)\n",
    "print(\"Mean Squared Error: \", mse)"
   ]
  },
  {
   "cell_type": "code",
   "execution_count": null,
   "id": "94d28ba5",
   "metadata": {},
   "outputs": [],
   "source": [
    "#R-squared\n",
    "#prints R-squared and mean squared error to check the accuracy of the model\n",
    "R_sq = reg.score(X, y)\n",
    "print(\"R-squared: \", R_sq)"
   ]
  },
  {
   "cell_type": "code",
   "execution_count": null,
   "id": "1eb9e9f1",
   "metadata": {},
   "outputs": [],
   "source": []
  }
 ],
 "metadata": {
  "kernelspec": {
   "display_name": "Python 3 (ipykernel)",
   "language": "python",
   "name": "python3"
  },
  "language_info": {
   "codemirror_mode": {
    "name": "ipython",
    "version": 3
   },
   "file_extension": ".py",
   "mimetype": "text/x-python",
   "name": "python",
   "nbconvert_exporter": "python",
   "pygments_lexer": "ipython3",
   "version": "3.9.12"
  }
 },
 "nbformat": 4,
 "nbformat_minor": 5
}
